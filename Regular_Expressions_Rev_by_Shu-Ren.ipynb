{
 "cells": [
  {
   "cell_type": "markdown",
   "metadata": {},
   "source": [
    "## Regular Expressions\n",
    "Regular expression is a set of characters, called as the pattern, which helps in finding substrings in a given string. The pattern is used to detect the substrings\n",
    "\n",
    "For example, suppose you have a dataset of customer reviews about your restaurant. Say, you want to extract the emojis from the reviews because they are a good predictor os the sentiment of the review.\n",
    "\n",
    "Take another example, the artificial assistants such as Siri, Google Now use information retrieval to give you better results. When you ask them for any query or ask them to search for something interesting on the screen, they look for common patterns such as emails, phone numbers, place names, date and time and so on. This is because then the assitant can automatically make a booking or ask you to call the resturant to make a booking.\n",
    "\n",
    "Regular expressions are very powerful tool in text processing. It will help you to clean and handle your text in a much better way."
   ]
  },
  {
   "cell_type": "markdown",
   "metadata": {},
   "source": [
    "### Let's import the regular expression library in python."
   ]
  },
  {
   "cell_type": "code",
   "execution_count": 55,
   "metadata": {},
   "outputs": [],
   "source": [
    "import re"
   ]
  },
  {
   "cell_type": "markdown",
   "metadata": {},
   "source": [
    "Let's do a quick search using a pattern."
   ]
  },
  {
   "cell_type": "code",
   "execution_count": 56,
   "metadata": {},
   "outputs": [
    {
     "data": {
      "text/plain": [
       "<re.Match object; span=(0, 7), match='Shu-Ren'>"
      ]
     },
     "execution_count": 56,
     "metadata": {},
     "output_type": "execute_result"
    }
   ],
   "source": [
    "re.search('Shu-Ren', 'Shu-Ren is an exceptional student!')"
   ]
  },
  {
   "cell_type": "code",
   "execution_count": 57,
   "metadata": {},
   "outputs": [
    {
     "name": "stdout",
     "output_type": "stream",
     "text": [
      "John\n"
     ]
    }
   ],
   "source": [
    "# print output of re.search()\n",
    "match = re.search('John', 'John is an exceptional student!')\n",
    "print(match.group())"
   ]
  },
  {
   "cell_type": "markdown",
   "metadata": {},
   "source": [
    "Let's define a function to match regular expression patterns"
   ]
  },
  {
   "cell_type": "code",
   "execution_count": 58,
   "metadata": {},
   "outputs": [],
   "source": [
    "def find_pattern(text, patterns):\n",
    "    if re.search(patterns, text):\n",
    "        return re.search(patterns, text)\n",
    "    else:\n",
    "        return 'Not Found!'"
   ]
  },
  {
   "cell_type": "markdown",
   "metadata": {},
   "source": [
    "### Quantifiers"
   ]
  },
  {
   "cell_type": "markdown",
   "metadata": {},
   "source": [
    "--\tThe ? operator matches the preceding element zero or one time. For example, the pattern colou?r matches both color and colour. The ? operator can also make a quantifier non-greedy, meaning that it will match the minimum number of times instead of the maximum. For example, the pattern <.*?> matches the shortest possible string enclosed by < and >, while the pattern <.*> matches the longest possible string enclosed by < and >.\n",
    "\n",
    "--\tThe * operator matches the preceding element zero or more times. For example, the pattern bo* matches b, bo, boo, booo, and so on. The * operator is a greedy quantifier, meaning that it will match the maximum number of times possible. The lazy equivalent of the * operator is *?, which matches the minimum number of times possible.\n",
    "\n",
    "--\tThe + operator matches the preceding element one or more times. For example, the pattern a+ matches a, aa, aaa, aaaa, and so on. The + operator is also a greedy quantifier, meaning that it will match the maximum number of times possible. The lazy equivalent of the + operator is +?, which matches the minimum number of times possible.\n",
    "\n",
    "--\tThe {m, n} operator matches the preceding element at least m times and at most n times. For example, the pattern a{2,4} matches aa, aaa, or aaaa. The {m, n} operator is also a greedy quantifier, meaning that it will match the maximum number of times possible. The lazy equivalent of the {m, n} operator is {m, n}?, which matches the minimum number of times possible.\n"
   ]
  },
  {
   "cell_type": "code",
   "execution_count": 59,
   "metadata": {},
   "outputs": [
    {
     "name": "stdout",
     "output_type": "stream",
     "text": [
      "<re.Match object; span=(0, 1), match='a'>\n",
      "<re.Match object; span=(0, 2), match='ab'>\n",
      "<re.Match object; span=(0, 3), match='abb'>\n"
     ]
    }
   ],
   "source": [
    "# '*': Zero or more \n",
    "print(find_pattern(\"ac\", \"ab*\"))\n",
    "print(find_pattern(\"abc\", \"ab*\"))\n",
    "print(find_pattern(\"abbc\", \"ab*\"))"
   ]
  },
  {
   "cell_type": "code",
   "execution_count": 60,
   "metadata": {},
   "outputs": [
    {
     "name": "stdout",
     "output_type": "stream",
     "text": [
      "<re.Match object; span=(0, 0), match=''>\n",
      "<re.Match object; span=(0, 4), match='Shu-'>\n",
      "Not Found!\n",
      "<re.Match object; span=(2, 3), match='a'>\n",
      "<re.Match object; span=(2, 5), match='ang'>\n",
      "<re.Match object; span=(2, 3), match='a'>\n",
      "Not Found!\n",
      "<re.Match object; span=(0, 5), match='Chang'>\n",
      "Not Found!\n",
      "<re.Match object; span=(0, 4), match='Chaa'>\n",
      "<re.Match object; span=(0, 4), match='Chaa'>\n",
      "<re.Match object; span=(0, 0), match=''>\n",
      "<re.Match object; span=(0, 1), match='C'>\n"
     ]
    }
   ],
   "source": [
    "# '*': Zero or more \n",
    "print(find_pattern(\"Shu-Ren\", \"R*\"))\n",
    "print(find_pattern(\"Shu-Ren\", \"Shu-*\"))\n",
    "print(find_pattern(\"Shu-Ren\", \"sh-*\"))\n",
    "print(find_pattern(\"Chang\", \"ab*\"))\n",
    "print(find_pattern(\"Chang\", \"ang*\"))\n",
    "print(find_pattern(\"Chang\", \"ag*\"))\n",
    "print(find_pattern(\"Chang\", \"aChang*\"))\n",
    "print(find_pattern(\"Chang\", \"Chang*\"))\n",
    "print(find_pattern(\"Chaang\", \"Chang*\"))\n",
    "print(find_pattern(\"Chaang\", \"Chaa*\"))\n",
    "\n",
    "print(find_pattern(\"Chaang\", \"Chaa*\"))\n",
    "print(find_pattern(\"Chaang\", \"n*\"))\n",
    "print(find_pattern(\"Chaang\", \"C*\"))"
   ]
  },
  {
   "cell_type": "code",
   "execution_count": 61,
   "metadata": {},
   "outputs": [
    {
     "name": "stdout",
     "output_type": "stream",
     "text": [
      "<re.Match object; span=(0, 1), match='a'>\n",
      "<re.Match object; span=(0, 2), match='ab'>\n",
      "<re.Match object; span=(0, 2), match='ab'>\n"
     ]
    }
   ],
   "source": [
    "# '?': Zero or one (tells whether a pattern is absent or present)\n",
    "print(find_pattern(\"ac\", \"ab?\"))\n",
    "print(find_pattern(\"abc\", \"ab?\"))\n",
    "print(find_pattern(\"abbc\", \"ab?\"))"
   ]
  },
  {
   "cell_type": "code",
   "execution_count": 62,
   "metadata": {},
   "outputs": [
    {
     "name": "stdout",
     "output_type": "stream",
     "text": [
      "<re.Match object; span=(0, 4), match='Shu-'>\n",
      "Not Found!\n",
      "<re.Match object; span=(2, 3), match='a'>\n",
      "<re.Match object; span=(2, 5), match='ang'>\n",
      "<re.Match object; span=(2, 3), match='a'>\n",
      "Not Found!\n",
      "<re.Match object; span=(0, 5), match='Chang'>\n",
      "Not Found!\n",
      "<re.Match object; span=(0, 4), match='Chaa'>\n",
      "<re.Match object; span=(0, 0), match=''>\n",
      "<re.Match object; span=(0, 1), match='C'>\n"
     ]
    }
   ],
   "source": [
    "# '?': Zero or one \n",
    "print(find_pattern(\"Shu-Ren\", \"Shu-?\"))\n",
    "print(find_pattern(\"Shu-Ren\", \"sh-?\"))\n",
    "print(find_pattern(\"Chang\", \"ab?\"))\n",
    "print(find_pattern(\"Chang\", \"ang?\"))\n",
    "print(find_pattern(\"Chang\", \"ag?\"))\n",
    "print(find_pattern(\"Chang\", \"aChang?\"))\n",
    "print(find_pattern(\"Chang\", \"Chang?\"))\n",
    "print(find_pattern(\"Chaang\", \"Chang?\"))\n",
    "print(find_pattern(\"Chaang\", \"Chaa?\"))\n",
    "print(find_pattern(\"Chaang\", \"a?\"))\n",
    "print(find_pattern(\"Chaang\", \"C?\"))"
   ]
  },
  {
   "cell_type": "code",
   "execution_count": 63,
   "metadata": {},
   "outputs": [
    {
     "name": "stdout",
     "output_type": "stream",
     "text": [
      "Not Found!\n",
      "<re.Match object; span=(0, 2), match='ab'>\n",
      "<re.Match object; span=(0, 3), match='abb'>\n"
     ]
    }
   ],
   "source": [
    "# '+': One or more\n",
    "print(find_pattern(\"ac\", \"ab+\"))\n",
    "print(find_pattern(\"abc\", \"ab+\"))\n",
    "print(find_pattern(\"abbc\", \"ab+\"))"
   ]
  },
  {
   "cell_type": "code",
   "execution_count": 64,
   "metadata": {},
   "outputs": [
    {
     "name": "stdout",
     "output_type": "stream",
     "text": [
      "<re.Match object; span=(0, 1), match='a'>\n",
      "<re.Match object; span=(0, 1), match='a'>\n",
      "<re.Match object; span=(0, 3), match='abb'>\n"
     ]
    }
   ],
   "source": [
    "print(find_pattern(\"ac\", \"a+\"))\n",
    "print(find_pattern(\"abc\", \"a+\"))\n",
    "print(find_pattern(\"abbc\", \"ab+\"))"
   ]
  },
  {
   "cell_type": "code",
   "execution_count": 65,
   "metadata": {},
   "outputs": [
    {
     "name": "stdout",
     "output_type": "stream",
     "text": [
      "<re.Match object; span=(0, 4), match='Shu-'>\n",
      "Not Found!\n",
      "Not Found!\n",
      "<re.Match object; span=(2, 5), match='ang'>\n",
      "Not Found!\n",
      "Not Found!\n",
      "<re.Match object; span=(0, 5), match='Chang'>\n",
      "Not Found!\n",
      "<re.Match object; span=(0, 4), match='Chaa'>\n",
      "<re.Match object; span=(0, 4), match='Chaa'>\n",
      "Not Found!\n",
      "<re.Match object; span=(0, 11), match='Chaaaaaaaaa'>\n",
      "<re.Match object; span=(0, 7), match='Chaaaaa'>\n",
      "<re.Match object; span=(2, 7), match='aaaaa'>\n"
     ]
    }
   ],
   "source": [
    "# '+': One or more\n",
    "\n",
    "print(find_pattern(\"Shu-Ren\", \"Shu-+\"))\n",
    "print(find_pattern(\"Shu-Ren\", \"sh-+\"))\n",
    "print(find_pattern(\"Chang\", \"ab+\"))\n",
    "print(find_pattern(\"Chang\", \"ang+\"))\n",
    "print(find_pattern(\"Chang\", \"ag+\"))\n",
    "print(find_pattern(\"Chang\", \"aChang+\"))\n",
    "print(find_pattern(\"Chang\", \"Chang+\"))\n",
    "print(find_pattern(\"Chaang\", \"Chang+\"))\n",
    "print(find_pattern(\"Chaang\", \"Chaa+\"))\n",
    "print(find_pattern(\"Chaang\", \"Cha+\"))\n",
    "print(find_pattern(\"Chaang\", \"Chan+\"))\n",
    "print(find_pattern(\"ChaaaaaaaaaChang\", \"Cha+\"))\n",
    "print(find_pattern(\"ChaaaaaChaChaChaaaaaaChang\", \"Cha+\"))\n",
    "print(find_pattern(\"ChaaaaaChaChaChaaaaaaChang\", \"a+\"))\n"
   ]
  },
  {
   "cell_type": "code",
   "execution_count": 66,
   "metadata": {},
   "outputs": [
    {
     "name": "stdout",
     "output_type": "stream",
     "text": [
      "<re.Match object; span=(0, 3), match='abb'>\n"
     ]
    }
   ],
   "source": [
    "# {n}: Matches if a character is present exactly n number of times\n",
    "print(find_pattern(\"abbc\", \"ab{2}\"))\n"
   ]
  },
  {
   "cell_type": "code",
   "execution_count": 67,
   "metadata": {},
   "outputs": [
    {
     "name": "stdout",
     "output_type": "stream",
     "text": [
      "<re.Match object; span=(2, 6), match='aang'>\n",
      "<re.Match object; span=(2, 6), match='aang'>\n",
      "Not Found!\n"
     ]
    }
   ],
   "source": [
    "# {n}: Matches if a character is present exactly n number of times\n",
    "print(find_pattern(\"Chaang\", \"a{2}ng\"))\n",
    "print(find_pattern(\"Chaangng\", \"a{2}ng\"))\n",
    "print(find_pattern(\"Chaangng\", \"ka{2}ng\"))"
   ]
  },
  {
   "cell_type": "code",
   "execution_count": 68,
   "metadata": {},
   "outputs": [
    {
     "name": "stdout",
     "output_type": "stream",
     "text": [
      "<re.Match object; span=(1, 7), match='abbbbb'>\n",
      "Not Found!\n",
      "<re.Match object; span=(0, 1), match='a'>\n",
      "Not Found!\n"
     ]
    }
   ],
   "source": [
    "# {m,n}: Matches if a character is present from m to n number of times\n",
    "print(find_pattern(\"aabbbbbbc\", \"ab{3,5}\"))   # return true if 'b' is present 3-5 times\n",
    "print(find_pattern(\"aabbbbbbc\", \"ab{7,10}\"))  # return true if 'b' is present 7-10 times\n",
    "print(find_pattern(\"aabbbbbbc\", \"ab{,10}\"))   # return true if 'b' is present atmost 10 times\n",
    "print(find_pattern(\"aabbbbbbc\", \"ab{10,}\"))   # return true if 'b' is present from at least 10 times"
   ]
  },
  {
   "cell_type": "code",
   "execution_count": 69,
   "metadata": {},
   "outputs": [
    {
     "name": "stdout",
     "output_type": "stream",
     "text": [
      "<re.Match object; span=(2, 6), match='aaaa'>\n",
      "<re.Match object; span=(2, 11), match='aaaaaaaaa'>\n",
      "<re.Match object; span=(1, 3), match='ha'>\n",
      "<re.Match object; span=(3, 8), match='annng'>\n"
     ]
    }
   ],
   "source": [
    "# {m,n}: Matches if a character is present from m to n number of times\n",
    "print(find_pattern(\"Chaaaang\", \"aa{3,5}\"))   # return true if 'b' is present 3-5 times\n",
    "print(find_pattern(\"Chaaaaaaaaang\", \"a{7,10}\"))  # return true if 'b' is present 7-10 times\n",
    "print(find_pattern(\"Chaaaang\", \"hab{,10}\"))   # return true if 'b' is present atmost 10 times\n",
    "print(find_pattern(\"Chaannngc\", \"an{1,}g\"))   # return true if 'b' is present from at least 10 times"
   ]
  },
  {
   "cell_type": "markdown",
   "metadata": {},
   "source": [
    "### Anchors"
   ]
  },
  {
   "cell_type": "code",
   "execution_count": 70,
   "metadata": {},
   "outputs": [
    {
     "name": "stdout",
     "output_type": "stream",
     "text": [
      "<re.Match object; span=(0, 1), match='J'>\n",
      "Not Found!\n",
      "<re.Match object; span=(4, 5), match='a'>\n",
      "Not Found!\n"
     ]
    }
   ],
   "source": [
    "# '^': Indicates start of a string\n",
    "# '$': Indicates end of string\n",
    "\n",
    "print(find_pattern(\"James\", \"^J\"))   # return true if string starts with 'J' \n",
    "print(find_pattern(\"Pramod\", \"^J\"))  # return true if string starts with 'J' \n",
    "print(find_pattern(\"India\", \"a$\"))   # return true if string ends with 'a'\n",
    "print(find_pattern(\"Japan\", \"a$\"))   # return true if string ends with 'a'\n"
   ]
  },
  {
   "cell_type": "code",
   "execution_count": 71,
   "metadata": {},
   "outputs": [
    {
     "name": "stdout",
     "output_type": "stream",
     "text": [
      "<re.Match object; span=(0, 1), match='S'>\n",
      "<re.Match object; span=(0, 1), match='C'>\n",
      "<re.Match object; span=(5, 6), match='n'>\n",
      "Not Found!\n",
      "<re.Match object; span=(3, 4), match='E'>\n"
     ]
    }
   ],
   "source": [
    "# '^': Indicates start of a string\n",
    "# '$': Indicates end of string\n",
    "\n",
    "print(find_pattern(\"Shu-Ren\", \"^S\"))   # return true if string starts with 'S' \n",
    "print(find_pattern(\"Chang\", \"^C\"))  # return true if string starts with 'C' \n",
    "print(find_pattern(\"Taiwan\", \"n$\"))   # return true if string ends with 'n'\n",
    "print(find_pattern(\"LOVE\", \"e$\"))   # return true if string ends with 'e'\n",
    "print(find_pattern(\"LOVE\", \"E$\"))   # return true if string ends with 'E'"
   ]
  },
  {
   "cell_type": "markdown",
   "metadata": {},
   "source": [
    "### Wildcard"
   ]
  },
  {
   "cell_type": "code",
   "execution_count": 72,
   "metadata": {},
   "outputs": [
    {
     "name": "stdout",
     "output_type": "stream",
     "text": [
      "<re.Match object; span=(0, 1), match='a'>\n",
      "<re.Match object; span=(0, 1), match='#'>\n"
     ]
    }
   ],
   "source": [
    "# '.': Matches any character\n",
    "print(find_pattern(\"a\", \".\"))\n",
    "print(find_pattern(\"#\", \".\"))\n"
   ]
  },
  {
   "cell_type": "code",
   "execution_count": 73,
   "metadata": {},
   "outputs": [
    {
     "name": "stdout",
     "output_type": "stream",
     "text": [
      "<re.Match object; span=(0, 11), match='Changshuren'>\n",
      "<re.Match object; span=(0, 11), match='Changshuren'>\n",
      "<re.Match object; span=(0, 3), match='Cha'>\n",
      "<re.Match object; span=(0, 1), match='#'>\n"
     ]
    }
   ],
   "source": [
    "# '.': Matches any character\n",
    "print(find_pattern(\"Changshuren\", \"...*\"))\n",
    "print(find_pattern(\"Changshuren\", \"...+\"))\n",
    "print(find_pattern(\"Changshuren\", \"...?\"))\n",
    "print(find_pattern(\"#Changshuren\", \".\"))"
   ]
  },
  {
   "cell_type": "markdown",
   "metadata": {},
   "source": [
    "### Character sets"
   ]
  },
  {
   "cell_type": "code",
   "execution_count": 74,
   "metadata": {},
   "outputs": [
    {
     "name": "stdout",
     "output_type": "stream",
     "text": [
      "<re.Match object; span=(0, 1), match='a'>\n",
      "<re.Match object; span=(0, 1), match='c'>\n"
     ]
    }
   ],
   "source": [
    "# Now we will look at '[' and ']'.\n",
    "# They're used for specifying a character class, which is a set of characters that you wish to match.\n",
    "# Characters can be listed individually as follows\n",
    "print(find_pattern(\"a\", \"[abc]\"))\n",
    "\n",
    "# Or a range of characters can be indicated by giving two characters and separating them by a '-'.\n",
    "print(find_pattern(\"c\", \"[a-c]\"))  # same as above"
   ]
  },
  {
   "cell_type": "code",
   "execution_count": 75,
   "metadata": {},
   "outputs": [
    {
     "name": "stdout",
     "output_type": "stream",
     "text": [
      "<re.Match object; span=(2, 3), match='a'>\n",
      "<re.Match object; span=(3, 4), match='n'>\n",
      "<re.Match object; span=(3, 4), match='n'>\n",
      "<re.Match object; span=(1, 2), match='h'>\n"
     ]
    }
   ],
   "source": [
    "# Now we will look at '[' and ']'.\n",
    "# They're used for specifying a character class, which is a set of characters that you wish to match.\n",
    "# Characters can be listed individually as follows\n",
    "print(find_pattern(\"Chang\", \"[abc]\"))\n",
    "\n",
    "# Or a range of characters can be indicated by giving two characters and separating them by a '-'.\n",
    "print(find_pattern(\"chang\", \"[ng]\"))  # same as above\n",
    "print(find_pattern(\"chang\", \"[gn]\"))  # same as above\n",
    "print(find_pattern(\"chang\", \"[hg]\"))  # same as above\n"
   ]
  },
  {
   "cell_type": "code",
   "execution_count": 76,
   "metadata": {},
   "outputs": [
    {
     "name": "stdout",
     "output_type": "stream",
     "text": [
      "Not Found!\n"
     ]
    }
   ],
   "source": [
    "# '^' is used inside character set to indicate complementary set\n",
    "print(find_pattern(\"a\", \"[^abc]\"))  # return true if neither of these is present - a,b or c"
   ]
  },
  {
   "cell_type": "code",
   "execution_count": 77,
   "metadata": {},
   "outputs": [
    {
     "name": "stdout",
     "output_type": "stream",
     "text": [
      "<re.Match object; span=(0, 1), match='C'>\n",
      "<re.Match object; span=(2, 3), match='G'>\n",
      "<re.Match object; span=(0, 1), match='S'>\n",
      "<re.Match object; span=(0, 1), match='S'>\n"
     ]
    }
   ],
   "source": [
    "# '^' is used inside character set to indicate complementary set\n",
    "print(find_pattern(\"CHANG\", \"[^abc]\"))  # return true if neither of these is present - a,b or c\n",
    "print(find_pattern(\"ANG\", \"[^AN]\"))  # return true if neither of these is present - a,b or c\n",
    "print(find_pattern(\"Shu\", \"[^AN]\"))  # return true if neither of these is present - a,b or c\n",
    "print(find_pattern(\"Shu-RenChang\", \"[^AN]\"))  # return true if neither of these is present - a,b or c"
   ]
  },
  {
   "cell_type": "markdown",
   "metadata": {},
   "source": [
    "### Character sets\n",
    "| Pattern  | Matches                                                                                    |\n",
    "|----------|--------------------------------------------------------------------------------------------|\n",
    "| [abc]    | Matches either an a, b or c character                                                      |\n",
    "| [abcABC] | Matches either an a, A, b, B, c or C character                                             |\n",
    "| [a-z]    | Matches any characters between a and z, including a and z                                  |\n",
    "| [A-Z]    | Matches any characters between A and Z, including A and Z                                  |\n",
    "| [a-zA-Z] | Matches any characters between a and z, including a and z ignoring cases of the characters |\n",
    "| [0-9]    | Matches any character which is a number between 0 and 9                                    |"
   ]
  },
  {
   "cell_type": "markdown",
   "metadata": {},
   "source": [
    "### Meta sequences\n",
    "\n",
    "| Pattern  | Equivalent to    |\n",
    "|----------|------------------|\n",
    "| \\s       | [ \\t\\n\\r\\f\\v]    |\n",
    "| \\S       | [^ \\t\\n\\r\\f\\v]   |\n",
    "| \\d       | [0-9]            |\n",
    "| \\D       | [^0-9]           |\n",
    "| \\w       | [a-zA-Z0-9_]     |\n",
    "| \\W       | [^a-zA-Z0-9_]    |"
   ]
  },
  {
   "cell_type": "markdown",
   "metadata": {},
   "source": [
    "### Greedy vs non-greedy regex"
   ]
  },
  {
   "cell_type": "code",
   "execution_count": 78,
   "metadata": {},
   "outputs": [
    {
     "name": "stdout",
     "output_type": "stream",
     "text": [
      "<re.Match object; span=(1, 7), match='abbbbb'>\n"
     ]
    }
   ],
   "source": [
    "print(find_pattern(\"aabbbbbb\", \"ab{3,5}\")) # return if a is followed by b 3-5 times GREEDY"
   ]
  },
  {
   "cell_type": "code",
   "execution_count": 79,
   "metadata": {},
   "outputs": [
    {
     "name": "stdout",
     "output_type": "stream",
     "text": [
      "<re.Match object; span=(1, 5), match='abbb'>\n"
     ]
    }
   ],
   "source": [
    "print(find_pattern(\"aabbbbbb\", \"ab{3,5}?\")) # return if a is followed by b 3-5 times GREEDY"
   ]
  },
  {
   "cell_type": "code",
   "execution_count": 80,
   "metadata": {},
   "outputs": [
    {
     "name": "stdout",
     "output_type": "stream",
     "text": [
      "<re.Match object; span=(0, 35), match='<HTML><TITLE>My Page</TITLE></HTML>'>\n"
     ]
    }
   ],
   "source": [
    "# Example of HTML code\n",
    "print(re.search(\"<.*>\",\"<HTML><TITLE>My Page</TITLE></HTML>\"))"
   ]
  },
  {
   "cell_type": "code",
   "execution_count": 81,
   "metadata": {},
   "outputs": [
    {
     "name": "stdout",
     "output_type": "stream",
     "text": [
      "<re.Match object; span=(0, 35), match='<HTML><TITLE>My Page</TITLE></HTML>'>\n"
     ]
    }
   ],
   "source": [
    "# Example of HTML code\n",
    "print(re.search(\"<.*>\",\"<HTML><TITLE>My Page</TITLE></HTML>\"))"
   ]
  },
  {
   "cell_type": "code",
   "execution_count": 82,
   "metadata": {},
   "outputs": [
    {
     "name": "stdout",
     "output_type": "stream",
     "text": [
      "<re.Match object; span=(0, 36), match='<Chang><TITLE>My Page</TITLE></HTML>'>\n"
     ]
    }
   ],
   "source": [
    "# Example of HTML code\n",
    "print(re.search(\"<.*>\",\"<Chang><TITLE>My Page</TITLE></HTML>\"))"
   ]
  },
  {
   "cell_type": "code",
   "execution_count": 83,
   "metadata": {},
   "outputs": [
    {
     "name": "stdout",
     "output_type": "stream",
     "text": [
      "<re.Match object; span=(0, 7), match='<Chang>'>\n"
     ]
    }
   ],
   "source": [
    "# Example of HTML code\n",
    "print(re.search(\"<.*?>\",\"<Chang><TITLE>My Page</TITLE></HTML>\"))"
   ]
  },
  {
   "cell_type": "code",
   "execution_count": 84,
   "metadata": {},
   "outputs": [
    {
     "name": "stdout",
     "output_type": "stream",
     "text": [
      "<re.Match object; span=(0, 36), match='<Chang><TITLE>My Page</TITLE></HTML>'>\n"
     ]
    }
   ],
   "source": [
    "# Example of HTML code\n",
    "print(re.search(\"<.+>\",\"<Chang><TITLE>My Page</TITLE></HTML>\"))"
   ]
  },
  {
   "cell_type": "code",
   "execution_count": 85,
   "metadata": {},
   "outputs": [
    {
     "name": "stdout",
     "output_type": "stream",
     "text": [
      "<re.Match object; span=(0, 6), match='<HTML>'>\n"
     ]
    }
   ],
   "source": [
    "# Example of HTML code\n",
    "print(re.search(\"<.*?>\",\"<HTML><TITLE>My Page</TITLE></HTML>\"))"
   ]
  },
  {
   "cell_type": "markdown",
   "metadata": {},
   "source": [
    "### The five most important re functions that you would be required to use most of the times are\n",
    "\n",
    "match() Determine if the RE matches at the beginning of the string\n",
    "\n",
    "search() Scan through a string, looking for any location where this RE matches\n",
    "\n",
    "finall() Find all the substrings where the RE matches, and return them as a list\n",
    "\n",
    "finditer() Find all substrings where RE matches and return them as asn iterator\n",
    "\n",
    "sub() Find all substrings where the RE matches and substitute them with the given string"
   ]
  },
  {
   "cell_type": "code",
   "execution_count": 86,
   "metadata": {},
   "outputs": [],
   "source": [
    "# - this function uses the re.match() and let's see how it differs from re.search()\n",
    "def match_pattern(text, patterns):\n",
    "    if re.match(patterns, text):\n",
    "        return re.match(patterns, text)\n",
    "    else:\n",
    "        return ('Not found!')"
   ]
  },
  {
   "cell_type": "code",
   "execution_count": 87,
   "metadata": {},
   "outputs": [
    {
     "name": "stdout",
     "output_type": "stream",
     "text": [
      "<re.Match object; span=(1, 3), match='bb'>\n"
     ]
    }
   ],
   "source": [
    "print(find_pattern(\"abbc\", \"b+\"))"
   ]
  },
  {
   "cell_type": "code",
   "execution_count": 88,
   "metadata": {},
   "outputs": [
    {
     "name": "stdout",
     "output_type": "stream",
     "text": [
      "<re.Match object; span=(3, 4), match='c'>\n"
     ]
    }
   ],
   "source": [
    "print(find_pattern(\"abbc\", \"cb*\"))"
   ]
  },
  {
   "cell_type": "code",
   "execution_count": 89,
   "metadata": {},
   "outputs": [
    {
     "name": "stdout",
     "output_type": "stream",
     "text": [
      "<re.Match object; span=(1, 2), match='b'>\n"
     ]
    }
   ],
   "source": [
    "print(find_pattern(\"abbc\", \"bc?\"))"
   ]
  },
  {
   "cell_type": "code",
   "execution_count": 90,
   "metadata": {},
   "outputs": [
    {
     "name": "stdout",
     "output_type": "stream",
     "text": [
      "Not found!\n"
     ]
    }
   ],
   "source": [
    "print(match_pattern(\"Chaang\", \"Cn+\"))"
   ]
  },
  {
   "cell_type": "code",
   "execution_count": 91,
   "metadata": {},
   "outputs": [
    {
     "name": "stdout",
     "output_type": "stream",
     "text": [
      "<re.Match object; span=(0, 2), match='Ch'>\n"
     ]
    }
   ],
   "source": [
    "print(match_pattern(\"Chaang\", \"Ch*\"))"
   ]
  },
  {
   "cell_type": "code",
   "execution_count": 92,
   "metadata": {},
   "outputs": [
    {
     "name": "stdout",
     "output_type": "stream",
     "text": [
      "<re.Match object; span=(0, 0), match=''>\n"
     ]
    }
   ],
   "source": [
    "print(match_pattern(\"Chaang\", \"a?\"))"
   ]
  },
  {
   "cell_type": "code",
   "execution_count": 93,
   "metadata": {},
   "outputs": [
    {
     "name": "stdout",
     "output_type": "stream",
     "text": [
      "21 Ramakrishna Rd\n"
     ]
    }
   ],
   "source": [
    "## Example usage of the sub() function. Replace Road with rd.\n",
    "\n",
    "street = '21 Ramakrishna Road'\n",
    "print(re.sub('Road', 'Rd', street))"
   ]
  },
  {
   "cell_type": "code",
   "execution_count": 94,
   "metadata": {},
   "outputs": [
    {
     "name": "stdout",
     "output_type": "stream",
     "text": [
      "21 Rd Rd\n"
     ]
    }
   ],
   "source": [
    "print(re.sub('R\\\\w+', 'Rd', street))"
   ]
  },
  {
   "cell_type": "code",
   "execution_count": 95,
   "metadata": {},
   "outputs": [
    {
     "name": "stdout",
     "output_type": "stream",
     "text": [
      "START - 12END - 20\n",
      "START - 42END - 50\n"
     ]
    }
   ],
   "source": [
    "## Example usage of finditer(). Find all occurrences of word Festival in given sentence\n",
    "\n",
    "text = 'Diwali is a festival of lights, Holi is a festival of colors!'\n",
    "pattern = 'festival'\n",
    "for match in re.finditer(pattern, text):\n",
    "    print('START -', match.start(), end=\"\")\n",
    "    print('END -', match.end())"
   ]
  },
  {
   "cell_type": "code",
   "execution_count": 96,
   "metadata": {},
   "outputs": [
    {
     "name": "stdout",
     "output_type": "stream",
     "text": [
      "START - 15END - 19\n",
      "START - 40END - 44\n"
     ]
    }
   ],
   "source": [
    "## Example usage of finditer(). Find all occurrences of word Festival in given sentence\n",
    "\n",
    "text = 'Chang, my last name, is a populatr last name in Taiwan!'\n",
    "pattern = 'name'\n",
    "for match in re.finditer(pattern, text):\n",
    "    print('START -', match.start(), end=\"\")\n",
    "    print('END -', match.end())"
   ]
  },
  {
   "cell_type": "code",
   "execution_count": 97,
   "metadata": {},
   "outputs": [
    {
     "name": "stdout",
     "output_type": "stream",
     "text": [
      "[('2017', '10', '28'), ('2017', '05', '12')]\n"
     ]
    }
   ],
   "source": [
    "# Example usage of findall(). In the given URL find all dates\n",
    "url = \"http://www.telegraph.co.uk/formula-1/2017/10/28/mexican-grand-prix-2017-time-does-start-tv-channel-odds-lewisl/2017/05/12\"\n",
    "date_regex = '/(\\\\d{4})/(\\\\d{1,2})/(\\\\d{1,2})'\n",
    "print(re.findall(date_regex, url))"
   ]
  },
  {
   "cell_type": "code",
   "execution_count": 98,
   "metadata": {},
   "outputs": [
    {
     "name": "stdout",
     "output_type": "stream",
     "text": [
      "[('2017', '11', '28'), ('2017', '05', '12')]\n"
     ]
    }
   ],
   "source": [
    "# Example usage of findall(). In the given URL find all dates\n",
    "url = \"http://www.telegraph.co.uk/formula-1/2017/11/28/mexican-grand-prix-2017-time-does-start-tv-channel-odds-lewisl/2017/05/12/\"\n",
    "date_regex = '/(\\\\d{4})/(\\\\d{1,2})/(\\\\d{1,2})/'\n",
    "print(re.findall(date_regex, url))"
   ]
  },
  {
   "cell_type": "code",
   "execution_count": 99,
   "metadata": {},
   "outputs": [
    {
     "name": "stdout",
     "output_type": "stream",
     "text": [
      "/2017/11/28/\n"
     ]
    }
   ],
   "source": [
    "## Exploring Groups\n",
    "m1 = re.search(date_regex, url)\n",
    "print(m1.group())  ## print the matched group"
   ]
  },
  {
   "cell_type": "code",
   "execution_count": 100,
   "metadata": {},
   "outputs": [
    {
     "name": "stdout",
     "output_type": "stream",
     "text": [
      "2017\n"
     ]
    }
   ],
   "source": [
    "print(m1.group(1)) # - Print first group"
   ]
  },
  {
   "cell_type": "code",
   "execution_count": 101,
   "metadata": {},
   "outputs": [
    {
     "name": "stdout",
     "output_type": "stream",
     "text": [
      "11\n"
     ]
    }
   ],
   "source": [
    "print(m1.group(2)) # - Print second group"
   ]
  },
  {
   "cell_type": "code",
   "execution_count": 102,
   "metadata": {},
   "outputs": [
    {
     "name": "stdout",
     "output_type": "stream",
     "text": [
      "28\n"
     ]
    }
   ],
   "source": [
    "print(m1.group(3)) # - Print third group"
   ]
  },
  {
   "cell_type": "code",
   "execution_count": 103,
   "metadata": {},
   "outputs": [
    {
     "name": "stdout",
     "output_type": "stream",
     "text": [
      "/2017/11/28/\n"
     ]
    }
   ],
   "source": [
    "print(m1.group(0)) # - Print zero or the default group"
   ]
  },
  {
   "cell_type": "code",
   "execution_count": 104,
   "metadata": {},
   "outputs": [
    {
     "name": "stdout",
     "output_type": "stream",
     "text": [
      "['image001.jpg', 'image002.jpg', 'image005.jpg', 'wallpaper.jpg', 'flower.jpg', 'earth.jpg', 'monkey.jpg']\n"
     ]
    }
   ],
   "source": [
    "# items contains all the files and folders of current directory\n",
    "items = ['photos', 'documents', 'videos', 'image001.jpg','image002.jpg','image005.jpg', 'wallpaper.jpg',\n",
    "         'flower.jpg', 'earth.jpg', 'monkey.jpg', 'image002.png']\n",
    "\n",
    "# create an empty list to store resultant files\n",
    "images = []\n",
    "\n",
    "# regex pattern to extract files that end with '.jpg'\n",
    "pattern = \".*\\\\.jpg$\"\n",
    "\n",
    "for item in items:\n",
    "    if re.search(pattern, item):\n",
    "        images.append(item)\n",
    "\n",
    "# print result\n",
    "print(images)"
   ]
  },
  {
   "cell_type": "code",
   "execution_count": 105,
   "metadata": {},
   "outputs": [
    {
     "name": "stdout",
     "output_type": "stream",
     "text": [
      "['image001.jpg', 'image002.jpg', 'image005.jpg']\n"
     ]
    }
   ],
   "source": [
    "# items contains all the files and folders of current directory\n",
    "items = ['photos', 'documents', 'videos', 'image001.jpg','image002.jpg','image005.jpg', 'wallpaper.jpg',\n",
    "         'flower.jpg', 'earth.jpg', 'monkey.jpg', 'image002.png']\n",
    "\n",
    "# create an empty list to store resultant files\n",
    "images = []\n",
    "\n",
    "# regex pattern to extract files that start with 'image' and end with '.jpg'\n",
    "pattern = \"image.*\\\\.jpg$\"\n",
    "\n",
    "for item in items:\n",
    "    if re.search(pattern, item):\n",
    "        images.append(item)\n",
    "\n",
    "# print result\n",
    "print(images)"
   ]
  }
 ],
 "metadata": {
  "kernelspec": {
   "display_name": "Python 3",
   "language": "python",
   "name": "python3"
  },
  "language_info": {
   "codemirror_mode": {
    "name": "ipython",
    "version": 3
   },
   "file_extension": ".py",
   "mimetype": "text/x-python",
   "name": "python",
   "nbconvert_exporter": "python",
   "pygments_lexer": "ipython3",
   "version": "3.12.0"
  }
 },
 "nbformat": 4,
 "nbformat_minor": 2
}
